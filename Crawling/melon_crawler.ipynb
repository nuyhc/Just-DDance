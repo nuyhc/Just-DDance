{
 "cells": [
  {
   "cell_type": "code",
   "execution_count": 59,
   "metadata": {},
   "outputs": [],
   "source": [
    "import pandas as pd  \n",
    "from selenium import webdriver   \n",
    "import time  \n",
    "from tqdm.notebook import tqdm \n",
    "from selenium.webdriver.common.by import By\n",
    "from bs4 import BeautifulSoup as bs"
   ]
  },
  {
   "cell_type": "code",
   "execution_count": 119,
   "metadata": {},
   "outputs": [
    {
     "name": "stderr",
     "output_type": "stream",
     "text": [
      "/opt/anaconda3/lib/python3.7/site-packages/ipykernel_launcher.py:2: DeprecationWarning: executable_path has been deprecated, please pass in a Service object\n",
      "  \n"
     ]
    }
   ],
   "source": [
    "path = \"/Users/sorijoo/Downloads/likelion/playground/chromedriver\"\n",
    "driver = webdriver.Chrome(path)\n",
    "\n",
    "# 사이트 주소는 Melon(음원사이트)\n",
    "driver.get('https://www.melon.com/chart/index.htm')\n",
    "time.sleep(2)"
   ]
  },
  {
   "cell_type": "code",
   "execution_count": 79,
   "metadata": {},
   "outputs": [],
   "source": []
  },
  {
   "cell_type": "code",
   "execution_count": 144,
   "metadata": {},
   "outputs": [],
   "source": [
    "# 곡정보 더보기 버튼 클릭\n",
    "\n",
    "\n",
    "more_info_list = driver.find_elements(By.CSS_SELECTOR, '#lst50 > td:nth-child(5) > div > a')\n",
    "\n",
    "# len(more_info_list)\n",
    "more_info_list[2].click()\n",
    "time.sleep(1)\n"
   ]
  },
  {
   "cell_type": "code",
   "execution_count": 126,
   "metadata": {},
   "outputs": [
    {
     "data": {
      "text/plain": [
       "'Attention'"
      ]
     },
     "execution_count": 126,
     "metadata": {},
     "output_type": "execute_result"
    }
   ],
   "source": [
    "# 제목 가져오기\n",
    "song = driver.find_element(By.CSS_SELECTOR, '.song_name')\n",
    "song.text"
   ]
  },
  {
   "cell_type": "code",
   "execution_count": 122,
   "metadata": {},
   "outputs": [
    {
     "data": {
      "text/plain": [
       "'NewJeans'"
      ]
     },
     "execution_count": 122,
     "metadata": {},
     "output_type": "execute_result"
    }
   ],
   "source": [
    "# 가수 가져오기\n",
    "artist = driver.find_element(By.CSS_SELECTOR, '.artist')\n",
    "artist.text"
   ]
  },
  {
   "cell_type": "code",
   "execution_count": 93,
   "metadata": {},
   "outputs": [
    {
     "data": {
      "text/plain": [
       "['앨범',\n",
       " \"NewJeans 1st EP 'New Jeans'\",\n",
       " '발매일',\n",
       " '2022.08.01',\n",
       " '장르',\n",
       " '댄스',\n",
       " 'FLAC',\n",
       " 'Flac 16/24bit']"
      ]
     },
     "execution_count": 93,
     "metadata": {},
     "output_type": "execute_result"
    }
   ],
   "source": [
    "# 앨범 기본 정보\n",
    "meta_info = driver.find_element(By.CSS_SELECTOR,\".list\").text.split('\\n')\n",
    "meta_info"
   ]
  },
  {
   "cell_type": "code",
   "execution_count": 96,
   "metadata": {},
   "outputs": [],
   "source": [
    "\n",
    "genre = meta_info[5]"
   ]
  },
  {
   "cell_type": "code",
   "execution_count": 97,
   "metadata": {},
   "outputs": [],
   "source": [
    "# 펼치기 버튼 클릭\n",
    "driver.find_element(By.CSS_SELECTOR,\".button_more.arrow_d\").click()"
   ]
  },
  {
   "cell_type": "code",
   "execution_count": 98,
   "metadata": {},
   "outputs": [
    {
     "data": {
      "text/plain": [
       "'You and me\\n내 맘이 보이지\\n한참을 쳐다봐\\n가까이 다가가\\nYou see\\nYou see, ey ey ey ey\\n\\nOne, two, three\\n용기가 생겼지\\n이미 아는 네 눈치\\n고개를 돌려 천천히\\n여기\\nYou see\\n여기 보이니\\n\\nLooking for attention 너야겠어\\n확실하게 나로 만들겠어\\nStop, eyyy\\nDrop the question\\nDrop the, drop the question\\nWant attention\\nWanna want attention\\n\\nYou give me butterflies you know\\n내 맘은 온통 paradise\\n꿈에서 깨워주지 마\\n\\nYou got me looking for attention\\nYou got me looking for attention\\n가끔은 정말\\n헷갈리지만\\n분명한 건\\nGot me looking for attention\\n\\n널 우연히 마주친 척할래\\n못 본 척 지나갈래\\nYou’re so fine\\nGotta gotta get to know ya\\n나와 나와 걸어가 줘\\n\\n지금 돌아서면\\nI need ya, need ya, need ya\\nTo look at me back\\nHey 다 들켰었나\\n널 보면 하트가 튀어나와\\n\\n난 사탕을 찾는 baby (baby)\\n내 맘은 설레이지\\nEyyy, drop the question\\nDrop the, drop the question\\nWant attention\\nWanna want attention\\n\\nYou give me butterflies you know\\n내 맘은 온통 paradise\\n꿈에서 깨워주지 마\\n\\nYou got me looking for attention\\nYou got me looking for attention\\n가끔은 정말\\n헷갈리지만\\n분명한 건\\nGot me looking for attention\\n\\nYou got me looking for attention\\nYou got me looking for attention\\n가끔은 정말\\n헷갈리지만\\n분명한 건\\nGot me looking for attention\\n\\nA T T E N T I on\\nAttention is what I want\\nA T T E N T I on\\nAttention is what I want\\nA T T E N T I on\\nAttention is what I want\\nA T T E N T I on\\nYou got me looking for attention'"
      ]
     },
     "execution_count": 98,
     "metadata": {},
     "output_type": "execute_result"
    }
   ],
   "source": [
    "lyric = driver.find_element(By.CSS_SELECTOR,\".lyric.on\")\n",
    "lyric.text"
   ]
  },
  {
   "cell_type": "code",
   "execution_count": 160,
   "metadata": {},
   "outputs": [
    {
     "data": {
      "text/html": [
       "<div>\n",
       "<style scoped>\n",
       "    .dataframe tbody tr th:only-of-type {\n",
       "        vertical-align: middle;\n",
       "    }\n",
       "\n",
       "    .dataframe tbody tr th {\n",
       "        vertical-align: top;\n",
       "    }\n",
       "\n",
       "    .dataframe thead th {\n",
       "        text-align: right;\n",
       "    }\n",
       "</style>\n",
       "<table border=\"1\" class=\"dataframe\">\n",
       "  <thead>\n",
       "    <tr style=\"text-align: right;\">\n",
       "      <th></th>\n",
       "      <th>제목</th>\n",
       "      <th>가수</th>\n",
       "      <th>장르</th>\n",
       "      <th>가사</th>\n",
       "    </tr>\n",
       "  </thead>\n",
       "  <tbody>\n",
       "  </tbody>\n",
       "</table>\n",
       "</div>"
      ],
      "text/plain": [
       "Empty DataFrame\n",
       "Columns: [제목, 가수, 장르, 가사]\n",
       "Index: []"
      ]
     },
     "execution_count": 160,
     "metadata": {},
     "output_type": "execute_result"
    }
   ],
   "source": [
    "top_100 = pd.DataFrame([['제목', '가수', '장르', '가사']])\n",
    "\n",
    "top_100 = top_100.rename(columns=top_100.iloc[0]).drop(top_100.index[0])\n",
    "\n",
    "top_100"
   ]
  },
  {
   "cell_type": "code",
   "execution_count": 161,
   "metadata": {},
   "outputs": [
    {
     "name": "stderr",
     "output_type": "stream",
     "text": [
      "/opt/anaconda3/lib/python3.7/site-packages/ipykernel_launcher.py:3: DeprecationWarning: executable_path has been deprecated, please pass in a Service object\n",
      "  This is separate from the ipykernel package so we can avoid doing imports until\n"
     ]
    }
   ],
   "source": [
    "# 크롬 웹브라우저 실행\n",
    "path = \"/Users/sorijoo/Downloads/likelion/playground/chromedriver\"\n",
    "driver = webdriver.Chrome(path)\n",
    "# 주소는 melon(음원사이트)\n",
    "driver.get('https://www.melon.com/chart/index.htm')\n",
    "time.sleep(2)  # 2초 정지\n",
    "more_info_list = driver.find_elements(By.CSS_SELECTOR, \".btn.button_icons.type03.song_info\")\n",
    "# print(len(more_info_list))\n",
    "# more_info_list[10].click()\n",
    "# driver.back()\n",
    "# more_info_list[11].click()\n",
    "# 크롤링 코드\n",
    "number = 100  # 수집할 글 갯수 정하기\n",
    "# 반복문 시작\n",
    "for i in range(number):\n",
    "    # 곡정보 더보기 버튼 클릭\n",
    "    \n",
    "    more_info_list[i].click()\n",
    "    time.sleep(5)\n",
    "    # 크롤링\n",
    "    # try : \n",
    "    tmp_list = []\n",
    "\n",
    "    #제목 가져오기\n",
    "    song = driver.find_element(By.CSS_SELECTOR, '.song_name').text \n",
    "    tmp_list.append(song)\n",
    "    # 가수 가져오기\n",
    "    artist = driver.find_element(By.CSS_SELECTOR, '.artist').text\n",
    "    tmp_list.append(artist)\n",
    "    # 앨범 기본 정보\n",
    "    meta_info = driver.find_element(By.CSS_SELECTOR,\".list\").text.split('\\n')\n",
    "    genre = meta_info[5]\n",
    "    tmp_list.append(genre)\n",
    "    # 펼치기 버튼 클릭\n",
    "    driver.find_element(By.CSS_SELECTOR,\".button_more.arrow_d\").click()\n",
    "    lyric = driver.find_element(By.CSS_SELECTOR,\".lyric.on\").text\n",
    "    tmp_list.append(lyric)\n",
    "    new_row = pd.DataFrame([tmp_list], columns=top_100.columns)\n",
    "    top_100 = pd.concat([top_100,new_row],ignore_index=True)\n",
    "    driver.back()\n",
    "\n",
    "\n",
    "    # except: print(\"except 실행\")  "
   ]
  },
  {
   "cell_type": "code",
   "execution_count": 162,
   "metadata": {},
   "outputs": [
    {
     "data": {
      "text/html": [
       "<div>\n",
       "<style scoped>\n",
       "    .dataframe tbody tr th:only-of-type {\n",
       "        vertical-align: middle;\n",
       "    }\n",
       "\n",
       "    .dataframe tbody tr th {\n",
       "        vertical-align: top;\n",
       "    }\n",
       "\n",
       "    .dataframe thead th {\n",
       "        text-align: right;\n",
       "    }\n",
       "</style>\n",
       "<table border=\"1\" class=\"dataframe\">\n",
       "  <thead>\n",
       "    <tr style=\"text-align: right;\">\n",
       "      <th></th>\n",
       "      <th>제목</th>\n",
       "      <th>가수</th>\n",
       "      <th>장르</th>\n",
       "      <th>가사</th>\n",
       "    </tr>\n",
       "  </thead>\n",
       "  <tbody>\n",
       "    <tr>\n",
       "      <th>0</th>\n",
       "      <td>Attention</td>\n",
       "      <td>NewJeans</td>\n",
       "      <td>댄스</td>\n",
       "      <td>You and me\\n내 맘이 보이지\\n한참을 쳐다봐\\n가까이 다가가\\nYou se...</td>\n",
       "    </tr>\n",
       "    <tr>\n",
       "      <th>1</th>\n",
       "      <td>그때 그 순간 그대로 (그그그)</td>\n",
       "      <td>WSG워너비 (가야G)</td>\n",
       "      <td>발라드</td>\n",
       "      <td>잘 지냈지? 조금은 어색해 요즘 좋아 보여 인사 나누며\\n사실 궁금한 게 너무 많았...</td>\n",
       "    </tr>\n",
       "    <tr>\n",
       "      <th>2</th>\n",
       "      <td>보고싶었어</td>\n",
       "      <td>WSG워너비 (4FIRE)</td>\n",
       "      <td>R&amp;B/Soul</td>\n",
       "      <td>너를 정말 사랑했나 봐 아직도 널 못 잊었나 봐 자꾸만 생각나\\n\\n시간은 왜 자꾸...</td>\n",
       "    </tr>\n",
       "    <tr>\n",
       "      <th>3</th>\n",
       "      <td>LOVE DIVE</td>\n",
       "      <td>IVE (아이브)</td>\n",
       "      <td>댄스</td>\n",
       "      <td>네가 참 궁금해 그건 너도 마찬가지\\n이거면 충분해 쫓고 쫓는 이런 놀이\\n참을 수...</td>\n",
       "    </tr>\n",
       "    <tr>\n",
       "      <th>4</th>\n",
       "      <td>Hype boy</td>\n",
       "      <td>NewJeans</td>\n",
       "      <td>댄스</td>\n",
       "      <td>(1,2,3,4)\\nBaby, got me looking so crazy\\n빠져버리...</td>\n",
       "    </tr>\n",
       "    <tr>\n",
       "      <th>...</th>\n",
       "      <td>...</td>\n",
       "      <td>...</td>\n",
       "      <td>...</td>\n",
       "      <td>...</td>\n",
       "    </tr>\n",
       "    <tr>\n",
       "      <th>95</th>\n",
       "      <td>스물다섯, 스물하나</td>\n",
       "      <td>자우림</td>\n",
       "      <td>록/메탈</td>\n",
       "      <td>바람에 날려 꽃이 지는 계절엔\\n아직도 너의 손을 잡은 듯 그런 듯 해\\n그때는 아...</td>\n",
       "    </tr>\n",
       "    <tr>\n",
       "      <th>96</th>\n",
       "      <td>Savage</td>\n",
       "      <td>aespa</td>\n",
       "      <td>댄스</td>\n",
       "      <td>Oh my gosh!\\nDon't you know I’m a Savage?\\nI’m...</td>\n",
       "    </tr>\n",
       "    <tr>\n",
       "      <th>97</th>\n",
       "      <td>사랑한다고 말해줘</td>\n",
       "      <td>탑현</td>\n",
       "      <td>발라드</td>\n",
       "      <td>사실 난 너를 사랑한다고 말할 땐\\n너에게 그 말이 듣고 싶어서라고\\n오늘이 가기 ...</td>\n",
       "    </tr>\n",
       "    <tr>\n",
       "      <th>98</th>\n",
       "      <td>Darl+ing</td>\n",
       "      <td>세븐틴</td>\n",
       "      <td>댄스</td>\n",
       "      <td>You know without you I’m so lonely\\nWhen you’r...</td>\n",
       "    </tr>\n",
       "    <tr>\n",
       "      <th>99</th>\n",
       "      <td>Bad Decisions</td>\n",
       "      <td>benny blanco, 방탄소년단, Snoop Dogg</td>\n",
       "      <td>POP</td>\n",
       "      <td>Radio station B-T-S-N-double O-P\\nNo makeup on...</td>\n",
       "    </tr>\n",
       "  </tbody>\n",
       "</table>\n",
       "<p>100 rows × 4 columns</p>\n",
       "</div>"
      ],
      "text/plain": [
       "                   제목                               가수        장르  \\\n",
       "0           Attention                         NewJeans        댄스   \n",
       "1   그때 그 순간 그대로 (그그그)                     WSG워너비 (가야G)       발라드   \n",
       "2               보고싶었어                   WSG워너비 (4FIRE)  R&B/Soul   \n",
       "3           LOVE DIVE                        IVE (아이브)        댄스   \n",
       "4            Hype boy                         NewJeans        댄스   \n",
       "..                ...                              ...       ...   \n",
       "95         스물다섯, 스물하나                              자우림      록/메탈   \n",
       "96             Savage                            aespa        댄스   \n",
       "97          사랑한다고 말해줘                               탑현       발라드   \n",
       "98           Darl+ing                              세븐틴        댄스   \n",
       "99      Bad Decisions  benny blanco, 방탄소년단, Snoop Dogg       POP   \n",
       "\n",
       "                                                   가사  \n",
       "0   You and me\\n내 맘이 보이지\\n한참을 쳐다봐\\n가까이 다가가\\nYou se...  \n",
       "1   잘 지냈지? 조금은 어색해 요즘 좋아 보여 인사 나누며\\n사실 궁금한 게 너무 많았...  \n",
       "2   너를 정말 사랑했나 봐 아직도 널 못 잊었나 봐 자꾸만 생각나\\n\\n시간은 왜 자꾸...  \n",
       "3   네가 참 궁금해 그건 너도 마찬가지\\n이거면 충분해 쫓고 쫓는 이런 놀이\\n참을 수...  \n",
       "4   (1,2,3,4)\\nBaby, got me looking so crazy\\n빠져버리...  \n",
       "..                                                ...  \n",
       "95  바람에 날려 꽃이 지는 계절엔\\n아직도 너의 손을 잡은 듯 그런 듯 해\\n그때는 아...  \n",
       "96  Oh my gosh!\\nDon't you know I’m a Savage?\\nI’m...  \n",
       "97  사실 난 너를 사랑한다고 말할 땐\\n너에게 그 말이 듣고 싶어서라고\\n오늘이 가기 ...  \n",
       "98  You know without you I’m so lonely\\nWhen you’r...  \n",
       "99  Radio station B-T-S-N-double O-P\\nNo makeup on...  \n",
       "\n",
       "[100 rows x 4 columns]"
      ]
     },
     "execution_count": 162,
     "metadata": {},
     "output_type": "execute_result"
    }
   ],
   "source": [
    "top_100"
   ]
  },
  {
   "cell_type": "code",
   "execution_count": null,
   "metadata": {},
   "outputs": [],
   "source": [
    "top_100.to_csv(\"melon_chart_100.csv\", index=False)"
   ]
  }
 ],
 "metadata": {
  "interpreter": {
   "hash": "40d3a090f54c6569ab1632332b64b2c03c39dcf918b08424e98f38b5ae0af88f"
  },
  "kernelspec": {
   "display_name": "Python 3.7.4 ('base')",
   "language": "python",
   "name": "python3"
  },
  "language_info": {
   "codemirror_mode": {
    "name": "ipython",
    "version": 3
   },
   "file_extension": ".py",
   "mimetype": "text/x-python",
   "name": "python",
   "nbconvert_exporter": "python",
   "pygments_lexer": "ipython3",
   "version": "3.7.4"
  },
  "orig_nbformat": 4
 },
 "nbformat": 4,
 "nbformat_minor": 2
}
