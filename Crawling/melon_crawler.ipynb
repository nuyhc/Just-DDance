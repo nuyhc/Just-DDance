{
 "cells": [
  {
   "cell_type": "code",
   "execution_count": 59,
   "metadata": {},
   "outputs": [],
   "source": [
    "import pandas as pd  \n",
    "from selenium import webdriver   \n",
    "import time  \n",
    "from tqdm.notebook import tqdm \n",
    "from selenium.webdriver.common.by import By\n",
    "from bs4 import BeautifulSoup as bs"
   ]
  },
  {
   "cell_type": "code",
   "execution_count": 78,
   "metadata": {},
   "outputs": [
    {
     "name": "stderr",
     "output_type": "stream",
     "text": [
      "/opt/anaconda3/lib/python3.7/site-packages/ipykernel_launcher.py:2: DeprecationWarning: executable_path has been deprecated, please pass in a Service object\n",
      "  \n"
     ]
    }
   ],
   "source": [
    "path = \"/Users/sorijoo/Downloads/likelion/playground/chromedriver\"\n",
    "driver = webdriver.Chrome(path)\n",
    "\n",
    "# 사이트 주소는 Melon(음원사이트)\n",
    "driver.get('https://www.melon.com/chart/index.htm')\n",
    "time.sleep(2)"
   ]
  },
  {
   "cell_type": "code",
   "execution_count": 79,
   "metadata": {},
   "outputs": [],
   "source": [
    "html = driver.page_source\n",
    "soup = bs(html, 'html.parser')\n",
    "song_soup = soup.select('#frm > div > table > tbody')\n",
    "\n"
   ]
  },
  {
   "cell_type": "code",
   "execution_count": 84,
   "metadata": {},
   "outputs": [],
   "source": [
    "# 곡정보 더보기 버튼 클릭\n",
    "\n",
    "\n",
    "more_info_list = driver.find_elements(By.CSS_SELECTOR, '#lst50 > td:nth-child(5) > div > a')\n",
    "\n",
    "# len(more_info_list)\n",
    "more_info_list[0].click()\n",
    "time.sleep(1)"
   ]
  },
  {
   "cell_type": "code",
   "execution_count": 90,
   "metadata": {},
   "outputs": [
    {
     "data": {
      "text/plain": [
       "'Attention'"
      ]
     },
     "execution_count": 90,
     "metadata": {},
     "output_type": "execute_result"
    }
   ],
   "source": [
    "# 제목 가져오기\n",
    "song = driver.find_element(By.CSS_SELECTOR, '.song_name')\n",
    "song.text"
   ]
  },
  {
   "cell_type": "code",
   "execution_count": 91,
   "metadata": {},
   "outputs": [
    {
     "data": {
      "text/plain": [
       "'NewJeans'"
      ]
     },
     "execution_count": 91,
     "metadata": {},
     "output_type": "execute_result"
    }
   ],
   "source": [
    "# 가수 가져오기\n",
    "artist = driver.find_element(By.CSS_SELECTOR, '.artist')\n",
    "artist.text"
   ]
  },
  {
   "cell_type": "code",
   "execution_count": 93,
   "metadata": {},
   "outputs": [
    {
     "data": {
      "text/plain": [
       "['앨범',\n",
       " \"NewJeans 1st EP 'New Jeans'\",\n",
       " '발매일',\n",
       " '2022.08.01',\n",
       " '장르',\n",
       " '댄스',\n",
       " 'FLAC',\n",
       " 'Flac 16/24bit']"
      ]
     },
     "execution_count": 93,
     "metadata": {},
     "output_type": "execute_result"
    }
   ],
   "source": [
    "# 앨범 기본 정보\n",
    "meta_info = driver.find_element(By.CSS_SELECTOR,\".list\").text.split('\\n')\n",
    "meta_info"
   ]
  },
  {
   "cell_type": "code",
   "execution_count": 96,
   "metadata": {},
   "outputs": [],
   "source": [
    "\n",
    "genre = meta_info[5]"
   ]
  },
  {
   "cell_type": "code",
   "execution_count": 97,
   "metadata": {},
   "outputs": [],
   "source": [
    "# 펼치기 버튼 클릭\n",
    "driver.find_element(By.CSS_SELECTOR,\".button_more.arrow_d\").click()"
   ]
  },
  {
   "cell_type": "code",
   "execution_count": 98,
   "metadata": {},
   "outputs": [
    {
     "data": {
      "text/plain": [
       "'You and me\\n내 맘이 보이지\\n한참을 쳐다봐\\n가까이 다가가\\nYou see\\nYou see, ey ey ey ey\\n\\nOne, two, three\\n용기가 생겼지\\n이미 아는 네 눈치\\n고개를 돌려 천천히\\n여기\\nYou see\\n여기 보이니\\n\\nLooking for attention 너야겠어\\n확실하게 나로 만들겠어\\nStop, eyyy\\nDrop the question\\nDrop the, drop the question\\nWant attention\\nWanna want attention\\n\\nYou give me butterflies you know\\n내 맘은 온통 paradise\\n꿈에서 깨워주지 마\\n\\nYou got me looking for attention\\nYou got me looking for attention\\n가끔은 정말\\n헷갈리지만\\n분명한 건\\nGot me looking for attention\\n\\n널 우연히 마주친 척할래\\n못 본 척 지나갈래\\nYou’re so fine\\nGotta gotta get to know ya\\n나와 나와 걸어가 줘\\n\\n지금 돌아서면\\nI need ya, need ya, need ya\\nTo look at me back\\nHey 다 들켰었나\\n널 보면 하트가 튀어나와\\n\\n난 사탕을 찾는 baby (baby)\\n내 맘은 설레이지\\nEyyy, drop the question\\nDrop the, drop the question\\nWant attention\\nWanna want attention\\n\\nYou give me butterflies you know\\n내 맘은 온통 paradise\\n꿈에서 깨워주지 마\\n\\nYou got me looking for attention\\nYou got me looking for attention\\n가끔은 정말\\n헷갈리지만\\n분명한 건\\nGot me looking for attention\\n\\nYou got me looking for attention\\nYou got me looking for attention\\n가끔은 정말\\n헷갈리지만\\n분명한 건\\nGot me looking for attention\\n\\nA T T E N T I on\\nAttention is what I want\\nA T T E N T I on\\nAttention is what I want\\nA T T E N T I on\\nAttention is what I want\\nA T T E N T I on\\nYou got me looking for attention'"
      ]
     },
     "execution_count": 98,
     "metadata": {},
     "output_type": "execute_result"
    }
   ],
   "source": [
    "lyric = driver.find_element(By.CSS_SELECTOR,\".lyric.on\")\n",
    "lyric.text"
   ]
  },
  {
   "cell_type": "code",
   "execution_count": 103,
   "metadata": {},
   "outputs": [
    {
     "data": {
      "text/html": [
       "<div>\n",
       "<style scoped>\n",
       "    .dataframe tbody tr th:only-of-type {\n",
       "        vertical-align: middle;\n",
       "    }\n",
       "\n",
       "    .dataframe tbody tr th {\n",
       "        vertical-align: top;\n",
       "    }\n",
       "\n",
       "    .dataframe thead th {\n",
       "        text-align: right;\n",
       "    }\n",
       "</style>\n",
       "<table border=\"1\" class=\"dataframe\">\n",
       "  <thead>\n",
       "    <tr style=\"text-align: right;\">\n",
       "      <th></th>\n",
       "      <th>제목</th>\n",
       "      <th>가수</th>\n",
       "      <th>장르</th>\n",
       "      <th>가사</th>\n",
       "    </tr>\n",
       "  </thead>\n",
       "  <tbody>\n",
       "  </tbody>\n",
       "</table>\n",
       "</div>"
      ],
      "text/plain": [
       "Empty DataFrame\n",
       "Columns: [제목, 가수, 장르, 가사]\n",
       "Index: []"
      ]
     },
     "execution_count": 103,
     "metadata": {},
     "output_type": "execute_result"
    }
   ],
   "source": [
    "top_100 = pd.DataFrame([['제목', '가수', '장르', '가사']])\n",
    "\n",
    "top_100.rename(columns=top_100.iloc[0]).drop(top_100.index[0])"
   ]
  },
  {
   "cell_type": "code",
   "execution_count": null,
   "metadata": {},
   "outputs": [],
   "source": [
    "# 크롬 웹브라우저 실행\n",
    "path = \"chromedriver.exe\"\n",
    "\n",
    "driver = webdriver.Chrome(path)\n",
    "# 주소는 melon(음원사이트)\n",
    "driver.get('http://www.melon.com')\n",
    "time.sleep(2)  # 2초 정지\n",
    "\n",
    "\n",
    "# 크롤링 코드\n",
    "dict = {}    # 전체 크롤링 데이터를 저장할 딕셔너리 생성\n",
    "\n",
    "number = 100  # 수집할 글 갯수 정하기\n",
    "\n",
    "# 반복문 시작\n",
    "for i in range(0,number):\n",
    "    # 곡정보 더보기 버튼 클릭\n",
    "    more_info_list = driver.find_element(By.CSS_SELECTOR, \".btn.button_icons.type03.song_info\")\n",
    "    more_info_list[i].click()\n",
    "    time.sleep(1)\n",
    "    # 크롤링\n",
    "    try : \n",
    "        music_info = {}  # 개별 블로그 내용을 담을 딕셔너리 생성\n",
    "        time.sleep(1)\n",
    "    song = driver.find_element(By.CSS_SELECTOR, '.song_name')    "
   ]
  }
 ],
 "metadata": {
  "interpreter": {
   "hash": "40d3a090f54c6569ab1632332b64b2c03c39dcf918b08424e98f38b5ae0af88f"
  },
  "kernelspec": {
   "display_name": "Python 3.7.4 ('base')",
   "language": "python",
   "name": "python3"
  },
  "language_info": {
   "codemirror_mode": {
    "name": "ipython",
    "version": 3
   },
   "file_extension": ".py",
   "mimetype": "text/x-python",
   "name": "python",
   "nbconvert_exporter": "python",
   "pygments_lexer": "ipython3",
   "version": "3.7.4"
  },
  "orig_nbformat": 4
 },
 "nbformat": 4,
 "nbformat_minor": 2
}
