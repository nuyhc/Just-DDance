{
 "cells": [
  {
   "cell_type": "code",
   "execution_count": 2,
   "metadata": {},
   "outputs": [],
   "source": [
    "import numpy as np\n",
    "import pandas as pd\n",
    "import mediapipe as mp\n",
    "import cv2\n",
    "import pytube\n",
    "import os\n",
    "import glob\n",
    "import pickle\n",
    "import imageio.v2 as imageio\n",
    "import json"
   ]
  },
  {
   "cell_type": "code",
   "execution_count": null,
   "metadata": {},
   "outputs": [],
   "source": []
  },
  {
   "cell_type": "markdown",
   "metadata": {},
   "source": [
    "# Frame 및 Output 생산"
   ]
  },
  {
   "cell_type": "code",
   "execution_count": 3,
   "metadata": {},
   "outputs": [],
   "source": [
    "def frames_to_gif(frames, output_name):\n",
    "    images = []\n",
    "    for frame in frames:\n",
    "        images.append(imageio.imread(frame))\n",
    "    imageio.mimsave(output_path+output_name+\".gif\", images)"
   ]
  },
  {
   "cell_type": "code",
   "execution_count": 4,
   "metadata": {},
   "outputs": [
    {
     "name": "stdout",
     "output_type": "stream",
     "text": [
      "Empty Frame\n"
     ]
    }
   ],
   "source": [
    "mp_drawing = mp.solutions.drawing_utils\n",
    "mp_drawing_style = mp.solutions.drawing_styles\n",
    "mp_pose = mp.solutions.pose\n",
    "\n",
    "# TODO: OS 모듈로 영상 별로 이미지 디렉토리 만들고 저장 할 수 있게 변경\n",
    "video_name = \"다만세2.mp4\"\n",
    "video_path = \"./\" + video_name\n",
    "\n",
    "# 비디오 로드\n",
    "cap = cv2.VideoCapture(video_path)\n",
    "# 프레임 별로 잘린 이미지\n",
    "frames_path = \"./frames/\"\n",
    "# gif\n",
    "output_path = \"./output/\"\n",
    "\n",
    "annotate_frames = []\n",
    "keypoint_dict = []\n",
    "\n",
    "# 바로 윈도우 열리고 출력 됨\n",
    "i = 0\n",
    "with mp_pose.Pose(min_detection_confidence=0.5, min_tracking_confidence=0.5) as pose:\n",
    "    while cap.isOpened():\n",
    "        success, image = cap.read()\n",
    "        if not success:\n",
    "            print(\"Empty Frame\")\n",
    "            break\n",
    "        # 이미지 반전 및 BGR -> RGB\n",
    "        image = cv2.cvtColor(cv2.flip(image, 1), cv2.COLOR_BGR2RGB)\n",
    "        image.flags.writeable = False\n",
    "        results = pose.process(image)\n",
    "        \n",
    "        if results.pose_landmarks is not None:\n",
    "            annotated_pose_landmarks = {str(j): [lmk.x, lmk.y, lmk.z] for j, lmk in enumerate(results.pose_landmarks.landmark)}\n",
    "            keypoint_dict.append(annotated_pose_landmarks)\n",
    "        \n",
    "        image.flags.writeable = True\n",
    "        image = cv2.cvtColor(image, cv2.COLOR_RGB2BGR)\n",
    "        mp_drawing.draw_landmarks(image, results.pose_landmarks, mp_pose.POSE_CONNECTIONS, landmark_drawing_spec=mp_drawing_style.get_default_pose_landmarks_style())\n",
    "        cv2.imwrite(frames_path+str(i)+\".png\", image)\n",
    "        annotate_frames.append(frames_path+str(i)+\".png\")\n",
    "        i += 1\n",
    "        cv2.imshow(\"Pose KeyPoint Extract: \"+video_name, image)\n",
    "        if cv2.waitKey(5) & 0xFF == 27: break\n",
    "        \n",
    "cap.release()\n",
    "cv2.destroyAllWindows()\n",
    "\n",
    "# gif 형식으로 저장\n",
    "frames_to_gif(annotate_frames, video_name)\n",
    "\n",
    "# 키포인트 json 형식으로 저장\n",
    "with open(output_path+video_name+\"_keypoints.json\", \"w\") as fp:\n",
    "    json.dump(keypoint_dict, fp)\n",
    "    \n",
    "# 대략 2분 정도 걸리는 듯"
   ]
  },
  {
   "cell_type": "code",
   "execution_count": null,
   "metadata": {},
   "outputs": [],
   "source": []
  }
 ],
 "metadata": {
  "kernelspec": {
   "display_name": "Python 3.10.4 64-bit",
   "language": "python",
   "name": "python3"
  },
  "language_info": {
   "codemirror_mode": {
    "name": "ipython",
    "version": 3
   },
   "file_extension": ".py",
   "mimetype": "text/x-python",
   "name": "python",
   "nbconvert_exporter": "python",
   "pygments_lexer": "ipython3",
   "version": "3.10.4"
  },
  "orig_nbformat": 4,
  "vscode": {
   "interpreter": {
    "hash": "9bd2b9f1bc3725b997944e306ded59b87ee72ef6f6c3261dd91d4e8593faf300"
   }
  }
 },
 "nbformat": 4,
 "nbformat_minor": 2
}
