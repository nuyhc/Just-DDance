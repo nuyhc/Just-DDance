{
 "cells": [
  {
   "cell_type": "code",
   "execution_count": 17,
   "metadata": {},
   "outputs": [],
   "source": [
    "import cv2\n",
    "import mediapipe as mp\n",
    "import numpy as np\n",
    "import playsound\n",
    "mp_drawing = mp.solutions.drawing_utils\n",
    "mp_drawing_styles = mp.solutions.drawing_styles\n",
    "mp_pose = mp.solutions.pose\n",
    "\n",
    "name_of_video = \"다만세2.mp4\"\n",
    "video_path = \"./\" + name_of_video\n",
    "\n",
    "\n",
    "\n",
    "\n",
    "\n",
    "# 웹캠, 영상 파일의 경우 이것을 사용하세요.:\n",
    "cap = cv2.VideoCapture(video_path)\n",
    "\n",
    "with mp_pose.Pose(\n",
    "        min_detection_confidence=0.5,\n",
    "        min_tracking_confidence=0.5) as pose:\n",
    "    while cap.isOpened():\n",
    "        success, image = cap.read()\n",
    "        if not success:\n",
    "            print(\"카메라를 찾을 수 없습니다.\")\n",
    "            # 동영상을 불러올 경우는 'continue' 대신 'break'를 사용합니다.\n",
    "            break\n",
    "\n",
    "        # 필요에 따라 성능 향상을 위해 이미지 작성을 불가능함으로 기본 설정합니다.\n",
    "        image.flags.writeable = False\n",
    "        image = cv2.cvtColor(image, cv2.COLOR_BGR2RGB)\n",
    "        results = pose.process(image)\n",
    "\n",
    "        # 포즈 주석을 이미지 위에 그립니다.\n",
    "        image.flags.writeable = True\n",
    "        image = cv2.cvtColor(image, cv2.COLOR_RGB2BGR)\n",
    "        mp_drawing.draw_landmarks(\n",
    "            image,\n",
    "            results.pose_landmarks,\n",
    "            mp_pose.POSE_CONNECTIONS,\n",
    "            landmark_drawing_spec=mp_drawing_styles.get_default_pose_landmarks_style())\n",
    "        # 보기 편하게 이미지를 좌우 반전합니다.\n",
    "        cv2.imshow('Into The New World covered', cv2.flip(image, 1))\n",
    "        key =cv2.waitKey(33)\n",
    "        if key == 27 : # esc키를 의미 (아스키코드)\n",
    "            cap.release() # 비디오 중지\n",
    "            cv2.destroyAllWindows() # 띄운 새창을 모두 닫는다.\n",
    "            break #while 반복문 중지\n",
    "cap.release()\n",
    "\n",
    "\n"
   ]
  },
  {
   "cell_type": "code",
   "execution_count": 20,
   "metadata": {},
   "outputs": [],
   "source": [
    "capture = cv2.VideoCapture('./다만세2.mp4')"
   ]
  },
  {
   "cell_type": "code",
   "execution_count": 21,
   "metadata": {},
   "outputs": [
    {
     "name": "stdout",
     "output_type": "stream",
     "text": [
      "960.0 540.0\n"
     ]
    }
   ],
   "source": [
    "w = capture.get(cv2.CAP_PROP_FRAME_WIDTH)\n",
    "h = capture.get(cv2.CAP_PROP_FRAME_HEIGHT)\n",
    "print(w,h)"
   ]
  },
  {
   "cell_type": "code",
   "execution_count": 4,
   "metadata": {},
   "outputs": [
    {
     "name": "stdout",
     "output_type": "stream",
     "text": [
      "Collecting moviepy\n",
      "  Downloading moviepy-1.0.3.tar.gz (388 kB)\n",
      "     -------------------------------------- 388.3/388.3 kB 2.4 MB/s eta 0:00:00\n",
      "  Preparing metadata (setup.py): started\n",
      "  Preparing metadata (setup.py): finished with status 'done'\n",
      "Collecting decorator<5.0,>=4.0.2\n",
      "  Downloading decorator-4.4.2-py2.py3-none-any.whl (9.2 kB)\n",
      "Requirement already satisfied: tqdm<5.0,>=4.11.2 in c:\\users\\dong-yeong kim\\appdata\\local\\programs\\python\\python310\\lib\\site-packages (from moviepy) (4.64.0)\n",
      "Requirement already satisfied: requests<3.0,>=2.8.1 in c:\\users\\dong-yeong kim\\appdata\\local\\programs\\python\\python310\\lib\\site-packages (from moviepy) (2.28.1)\n",
      "Collecting proglog<=1.0.0\n",
      "  Downloading proglog-0.1.10-py3-none-any.whl (6.1 kB)\n",
      "Requirement already satisfied: numpy>=1.17.3 in c:\\users\\dong-yeong kim\\appdata\\local\\programs\\python\\python310\\lib\\site-packages (from moviepy) (1.23.0)\n",
      "Requirement already satisfied: imageio<3.0,>=2.5 in c:\\users\\dong-yeong kim\\appdata\\local\\programs\\python\\python310\\lib\\site-packages (from moviepy) (2.21.1)\n",
      "Collecting imageio_ffmpeg>=0.2.0\n",
      "  Downloading imageio_ffmpeg-0.4.7-py3-none-win_amd64.whl (22.6 MB)\n",
      "     ---------------------------------------- 22.6/22.6 MB 2.5 MB/s eta 0:00:00\n",
      "Requirement already satisfied: pillow>=8.3.2 in c:\\users\\dong-yeong kim\\appdata\\local\\programs\\python\\python310\\lib\\site-packages (from imageio<3.0,>=2.5->moviepy) (9.1.1)\n",
      "Requirement already satisfied: urllib3<1.27,>=1.21.1 in c:\\users\\dong-yeong kim\\appdata\\local\\programs\\python\\python310\\lib\\site-packages (from requests<3.0,>=2.8.1->moviepy) (1.26.9)\n",
      "Requirement already satisfied: idna<4,>=2.5 in c:\\users\\dong-yeong kim\\appdata\\local\\programs\\python\\python310\\lib\\site-packages (from requests<3.0,>=2.8.1->moviepy) (3.3)\n",
      "Requirement already satisfied: certifi>=2017.4.17 in c:\\users\\dong-yeong kim\\appdata\\local\\programs\\python\\python310\\lib\\site-packages (from requests<3.0,>=2.8.1->moviepy) (2022.6.15)\n",
      "Requirement already satisfied: charset-normalizer<3,>=2 in c:\\users\\dong-yeong kim\\appdata\\local\\programs\\python\\python310\\lib\\site-packages (from requests<3.0,>=2.8.1->moviepy) (2.1.0)\n",
      "Requirement already satisfied: colorama in c:\\users\\dong-yeong kim\\appdata\\local\\programs\\python\\python310\\lib\\site-packages (from tqdm<5.0,>=4.11.2->moviepy) (0.4.5)\n",
      "Building wheels for collected packages: moviepy\n",
      "  Building wheel for moviepy (setup.py): started\n",
      "  Building wheel for moviepy (setup.py): finished with status 'done'\n",
      "  Created wheel for moviepy: filename=moviepy-1.0.3-py3-none-any.whl size=110743 sha256=700e75931bbac181fa498f5421b997a4727ec513a38d3618edfa4981733b6457\n",
      "  Stored in directory: c:\\users\\dong-yeong kim\\appdata\\local\\pip\\cache\\wheels\\96\\32\\2d\\e10123bd88fbfc02fed53cc18c80a171d3c87479ed845fa7c1\n",
      "Successfully built moviepy\n",
      "Installing collected packages: imageio_ffmpeg, decorator, proglog, moviepy\n",
      "  Attempting uninstall: decorator\n",
      "    Found existing installation: decorator 5.1.1\n",
      "    Uninstalling decorator-5.1.1:\n",
      "      Successfully uninstalled decorator-5.1.1\n",
      "Successfully installed decorator-4.4.2 imageio_ffmpeg-0.4.7 moviepy-1.0.3 proglog-0.1.10\n",
      "\n",
      "[notice] A new release of pip available: 22.2 -> 22.2.2\n",
      "[notice] To update, run: python.exe -m pip install --upgrade pip\n",
      "Note: you may need to restart the kernel to use updated packages.\n"
     ]
    }
   ],
   "source": [
    "pip install moviepy"
   ]
  },
  {
   "cell_type": "code",
   "execution_count": 6,
   "metadata": {},
   "outputs": [
    {
     "name": "stdout",
     "output_type": "stream",
     "text": [
      "MoviePy - Writing audio in audio.mp3\n"
     ]
    },
    {
     "name": "stderr",
     "output_type": "stream",
     "text": [
      "                                                                      "
     ]
    },
    {
     "name": "stdout",
     "output_type": "stream",
     "text": [
      "MoviePy - Done.\n"
     ]
    },
    {
     "name": "stderr",
     "output_type": "stream",
     "text": [
      "\r"
     ]
    }
   ],
   "source": [
    "\n",
    "# 동영상에서 오디오만 추출하기\n",
    "# 모듈 로딩 후 오디오 추출\n",
    "import moviepy.editor as m_v\n",
    "\n",
    "clip = m_v.VideoFileClip(\"다만세.mp4\")\n",
    "clip.audio.write_audiofile(\"audio.mp3\")"
   ]
  },
  {
   "cell_type": "code",
   "execution_count": 8,
   "metadata": {},
   "outputs": [
    {
     "name": "stdout",
     "output_type": "stream",
     "text": [
      "Collecting PlaySound\n",
      "  Downloading playsound-1.3.0.tar.gz (7.7 kB)\n",
      "  Preparing metadata (setup.py): started\n",
      "  Preparing metadata (setup.py): finished with status 'done'\n",
      "Building wheels for collected packages: PlaySound\n",
      "  Building wheel for PlaySound (setup.py): started\n",
      "  Building wheel for PlaySound (setup.py): finished with status 'done'\n",
      "  Created wheel for PlaySound: filename=playsound-1.3.0-py3-none-any.whl size=7035 sha256=f2f7493b303fc763c6b4aa7f101b3ac318ffc4f9274507b5d5c032f8915571d6\n",
      "  Stored in directory: c:\\users\\dong-yeong kim\\appdata\\local\\pip\\cache\\wheels\\90\\89\\ed\\2d643f4226fc8c7c9156fc28abd8051e2d2c0de37ae51ac45c\n",
      "Successfully built PlaySound\n",
      "Installing collected packages: PlaySound\n",
      "Successfully installed PlaySound-1.3.0\n",
      "\n",
      "[notice] A new release of pip available: 22.2 -> 22.2.2\n",
      "[notice] To update, run: python.exe -m pip install --upgrade pip\n",
      "Note: you may need to restart the kernel to use updated packages.\n"
     ]
    }
   ],
   "source": [
    "pip install PlaySound"
   ]
  },
  {
   "cell_type": "markdown",
   "metadata": {},
   "source": []
  },
  {
   "cell_type": "code",
   "execution_count": 1,
   "metadata": {},
   "outputs": [],
   "source": [
    "import playsound\n",
    "playsound.playsound('audio.mp3')"
   ]
  },
  {
   "cell_type": "code",
   "execution_count": null,
   "metadata": {},
   "outputs": [],
   "source": []
  }
 ],
 "metadata": {
  "kernelspec": {
   "display_name": "Python 3.10.4 64-bit",
   "language": "python",
   "name": "python3"
  },
  "language_info": {
   "codemirror_mode": {
    "name": "ipython",
    "version": 3
   },
   "file_extension": ".py",
   "mimetype": "text/x-python",
   "name": "python",
   "nbconvert_exporter": "python",
   "pygments_lexer": "ipython3",
   "version": "3.10.4"
  },
  "orig_nbformat": 4,
  "vscode": {
   "interpreter": {
    "hash": "9bd2b9f1bc3725b997944e306ded59b87ee72ef6f6c3261dd91d4e8593faf300"
   }
  }
 },
 "nbformat": 4,
 "nbformat_minor": 2
}
